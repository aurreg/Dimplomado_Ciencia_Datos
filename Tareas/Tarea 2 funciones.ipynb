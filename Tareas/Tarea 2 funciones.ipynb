{
 "cells": [
  {
   "cell_type": "markdown",
   "id": "969fb556",
   "metadata": {},
   "source": [
    "# Tarea 2 funciones"
   ]
  },
  {
   "cell_type": "markdown",
   "id": "fc124f0d",
   "metadata": {},
   "source": [
    "Practicaremos funciones.\n",
    "Como en la tarea 1, prepare un cuaderno solución de la tarea.\n",
    "\n",
    "Cada ejercicio debe ser probado con un ejemplo de datos."
   ]
  },
  {
   "cell_type": "markdown",
   "id": "1e20d383",
   "metadata": {},
   "source": [
    "1. Escriba una función  que reciba la fecha de nacimiento de un a persona y calcule la edad de la persona"
   ]
  },
  {
   "cell_type": "code",
   "execution_count": 1,
   "id": "3e515f84",
   "metadata": {},
   "outputs": [
    {
     "data": {
      "text/plain": [
       "23"
      ]
     },
     "execution_count": 1,
     "metadata": {},
     "output_type": "execute_result"
    }
   ],
   "source": [
    "from datetime import date\n",
    "def Edad(A,M,D): \n",
    "    Nacimiento=date(A,M,D)\n",
    "    today = date.today() # Definimos la fecha actual  \n",
    "    age = today.year - Nacimiento.year - ((today.month, today.day) < (Nacimiento.month, Nacimiento.day)) # se resta el booleano\n",
    "    return age \n",
    "Edad(1999,7,17)"
   ]
  },
  {
   "cell_type": "markdown",
   "id": "ec1b1cf7",
   "metadata": {},
   "source": [
    "2. Crea una función EscribirCentrado, que reciba como parámetro un texto y lo escriba centrado en pantalla (suponiendo una anchura de 80 columnas; pista: deberás escribir 40 - longitud/2 espacios antes del texto).  "
   ]
  },
  {
   "cell_type": "code",
   "execution_count": 2,
   "id": "01fb3c3f",
   "metadata": {},
   "outputs": [
    {
     "name": "stdout",
     "output_type": "stream",
     "text": [
      "                 Hola                 \n"
     ]
    }
   ],
   "source": [
    "def EscribirCentrado(x):\n",
    "    Texto=str(x)\n",
    "    longitud=len(Texto)\n",
    "    longitud=40 - longitud/2 \n",
    "    print (Texto.center(int(longitud), \" \")) \n",
    "    \n",
    "EscribirCentrado(\"Hola\")\n",
    "\n"
   ]
  },
  {
   "cell_type": "markdown",
   "id": "05bcbbce",
   "metadata": {},
   "source": [
    "3. Construya una función decorada que reciba un texto y lo escriba marcado con Markdown en itálica y resaltada (bold). Revise la lección de decoradores, no vista en clase.\n"
   ]
  },
  {
   "cell_type": "code",
   "execution_count": 3,
   "id": "af1caeb5",
   "metadata": {},
   "outputs": [
    {
     "name": "stdout",
     "output_type": "stream",
     "text": [
      "***Construya una función decorada que reciba un texto y lo escriba marcado con Markdown en itálica y resaltada (bold). Revise la lección de decoradores, no vista en clase.***\n"
     ]
    }
   ],
   "source": [
    "def decorador(func):\n",
    "    def inner(x):\n",
    "        i=\"**\"\n",
    "        x=i+x+i\n",
    "\n",
    "        return func(x)\n",
    "    return inner\n",
    "\n",
    "@decorador\n",
    "def funcion_inicial(x):\n",
    "    i=\"*\"\n",
    "    x=i+x+i\n",
    "    return(x)\n",
    "    \n",
    "\n",
    "print(funcion_inicial(\"Construya una función decorada que reciba un texto y lo escriba marcado con Markdown en itálica y resaltada (bold). Revise la lección de decoradores, no vista en clase.\"))"
   ]
  },
  {
   "cell_type": "markdown",
   "id": "f3521abf",
   "metadata": {},
   "source": [
    "***Construya una función decorada que reciba un texto y lo escriba marcado con Markdown en itálica y resaltada (bold). Revise la lección de decoradores, no vista en clase.***"
   ]
  },
  {
   "cell_type": "markdown",
   "id": "e6cc2dcc",
   "metadata": {},
   "source": [
    "4.  Crea un programa que pida dos número enteros al usuario y diga si alguno de ellos es múltiplo del otro. \n"
   ]
  },
  {
   "cell_type": "code",
   "execution_count": 4,
   "id": "4338bc9b",
   "metadata": {},
   "outputs": [
    {
     "name": "stdout",
     "output_type": "stream",
     "text": [
      " No es múltiplo\n"
     ]
    }
   ],
   "source": [
    "def EsMultiplo(x, y):\n",
    "    if x % y ==0 : # residuo de dividir E / M\n",
    "        print (\"Múltiplo\")\n",
    "    else:\n",
    "        print (\" No es múltiplo\")\n",
    "        \n",
    "EsMultiplo(25,2)"
   ]
  },
  {
   "cell_type": "markdown",
   "id": "d65e9002",
   "metadata": {},
   "source": [
    "5. Crear una función re reciba una lista  de 24 valores de temperatura leída  hora en un día y que calcule la temperatura media  Cree una lista con 24 valores de temperatura de un día de Bogotá y pruebe su función. Invente los datos."
   ]
  },
  {
   "cell_type": "code",
   "execution_count": 5,
   "id": "b60e18c3",
   "metadata": {},
   "outputs": [
    {
     "data": {
      "text/plain": [
       "12.865932397478373"
      ]
     },
     "execution_count": 5,
     "metadata": {},
     "output_type": "execute_result"
    }
   ],
   "source": [
    "import random\n",
    "T = [random.uniform(5.0,20.0) for i in range(24)]\n",
    "def MT (t):\n",
    "    return(sum(t)/len(t))\n",
    "MT(T)"
   ]
  },
  {
   "cell_type": "markdown",
   "id": "62b2d82b",
   "metadata": {},
   "source": [
    "5. Crea un función “ConvertirEspaciado”, que reciba como parámetro un texto y devuelve una cadena con un espacio adicional tras cada letra. Por ejemplo, “Hola, tú” devolverá “H o l a , t ú “.  Pruebe \n"
   ]
  },
  {
   "cell_type": "code",
   "execution_count": 6,
   "id": "ca70f2d1",
   "metadata": {},
   "outputs": [
    {
     "name": "stdout",
     "output_type": "stream",
     "text": [
      "H o l a , t ú\n"
     ]
    }
   ],
   "source": [
    "def ConvertirEspaciado(x):\n",
    "    x = \"\".join(x.split())# une todo y se eliminan todos los espacios\n",
    "    return(\" \".join(x))# separa toda la cadena por espacios\n",
    "print(ConvertirEspaciado(\"Hola, tú\"))"
   ]
  },
  {
   "cell_type": "markdown",
   "id": "a5dc1cae",
   "metadata": {},
   "source": [
    "6. Crea una función “calcularMaxMin” que recibe una arreglo con valores numérico y devuelve el valor máximo y el mínimo. "
   ]
  },
  {
   "cell_type": "code",
   "execution_count": 7,
   "id": "33efda7e",
   "metadata": {},
   "outputs": [
    {
     "name": "stdout",
     "output_type": "stream",
     "text": [
      "[17.732453106353432, 6.338944980355011, 12.453074929362899, 7.840897058785094, 10.268059398487395, 14.817781224150242, 6.982315401380548, 6.10962193260751, 10.860787040971672, 19.325206733208766, 9.510643167657673, 15.35935784974584, 14.956517497505812, 10.379125532430038, 10.3734916539977, 5.152222929600178, 14.850712769711677, 6.108229256892951, 17.616791340485165, 13.0771772186289, 15.804200952643427, 6.7974500710685515, 5.641751099278184, 14.161460219299489, 19.03552391058314, 14.269823989787895, 17.81063945243766, 17.750157205228625, 18.572522108665666, 19.613822329329746, 16.518205938747663, 7.235931472148823, 5.217709037118848, 18.959844827820994, 16.160696246626287, 18.223524083432814, 16.000478181717746, 12.326344660012662, 7.582883533422576, 17.204898333209186, 8.369874153218738, 18.78825129659773, 14.64153913253016, 14.433634808514409, 15.622757509848451, 5.544480520295271, 17.32512934213151, 17.8375758806577, 5.289121891771761, 9.232705580848755, 18.050753931489645, 16.940514343689344, 17.598256153592768, 10.368595050157948, 9.193337061580078, 10.738560327062242, 5.302974992704299, 19.08217060581191, 5.994103703195675, 5.397884624068317, 11.091570931549427, 11.875835869531052, 9.097638496211715, 10.79783901826741, 16.265877840590814, 5.8577405629491395, 11.50022969271156, 5.840025605796503, 5.91383523732817, 19.303432038921276, 13.440191721370569, 10.489381535981435, 18.448368523632205, 8.337641879500811, 16.391379737253715, 12.900051003525927, 6.925636709710403, 11.684426824827412, 10.120283366457626, 5.813733947913299, 7.178359103139211, 12.668842303393586, 16.802416966814516, 19.610602649483198, 6.333213911531135, 13.217142032949315, 6.29820668825469, 7.518048202554182, 13.706727375892827, 14.314610611396134, 16.459175376448272, 17.50500723330732, 7.1775971449908, 9.531200867422854, 11.543867921798501, 11.552878806814354, 17.289891201247364, 16.624033827175417, 8.217758342076358, 15.91124388573276]\n"
     ]
    },
    {
     "data": {
      "text/plain": [
       "(19.613822329329746, 5.152222929600178)"
      ]
     },
     "execution_count": 7,
     "metadata": {},
     "output_type": "execute_result"
    }
   ],
   "source": [
    "def calcularMaxMin(x):\n",
    "    return(max(x),min(x))\n",
    "x = [random.uniform(5.0,20.0) for i in range(100)]\n",
    "print(x)\n",
    "calcularMaxMin(x)"
   ]
  },
  {
   "cell_type": "markdown",
   "id": "7a5fb778",
   "metadata": {},
   "source": [
    "7.  Diseñar una función que calcule el área y el perímetro de una circunferencia. \n"
   ]
  },
  {
   "cell_type": "code",
   "execution_count": 8,
   "id": "1f4310b3",
   "metadata": {},
   "outputs": [
    {
     "data": {
      "text/plain": [
       "'Area= 3.141516 y Perimetro= 6.283032'"
      ]
     },
     "execution_count": 8,
     "metadata": {},
     "output_type": "execute_result"
    }
   ],
   "source": [
    "def circunferencia(r):\n",
    "    A=3.141516*r**2\n",
    "    P=3.141516*r*2\n",
    "    return (\"Area= {} y Perimetro= {}\".format(A,P))\n",
    "circunferencia(1)"
   ]
  },
  {
   "cell_type": "markdown",
   "id": "e603e6dc",
   "metadata": {},
   "source": [
    "8. Crear una función  llamada “Login”, que recibe un nombre de usuario y una contraseña y devuelva Verdadero si el nombre de usuario es “usuario1” y la contraseña es “asdasd”. Además recibe el número de intentos que se ha intentado hacer login y si no se ha podido hacer login incremente este valor."
   ]
  },
  {
   "cell_type": "code",
   "execution_count": 9,
   "id": "f501a6a4",
   "metadata": {},
   "outputs": [
    {
     "name": "stdout",
     "output_type": "stream",
     "text": [
      "Verdadero\n",
      "1\n",
      "usuario1\n",
      "asdasd\n",
      "Verdadero\n"
     ]
    },
    {
     "data": {
      "text/plain": [
       "True"
      ]
     },
     "execution_count": 9,
     "metadata": {},
     "output_type": "execute_result"
    }
   ],
   "source": [
    "def Login(U,C):\n",
    "    i=0\n",
    "    j=0\n",
    "    while i==0:\n",
    "        if U==\"usuario1\" and C==\"asdasd\":\n",
    "            i=1\n",
    "            print(\"Verdadero\")\n",
    "            return(True)\n",
    "        else:\n",
    "            j=j+1\n",
    "            print(j)\n",
    "            U=input(str())\n",
    "            C=input(str())\n",
    "            \n",
    "Login(\"usuario1\",\"asdasd\")\n",
    "Login(1,2)"
   ]
  },
  {
   "cell_type": "markdown",
   "id": "6c914dff",
   "metadata": {},
   "source": [
    "9. Crear una función recursiva que permita calcular el factorial de un número. Realiza un programa principal donde se lea un entero y se muestre el resultado del factorial. Revise la lección de funciones.\n"
   ]
  },
  {
   "cell_type": "code",
   "execution_count": 10,
   "id": "1ac35569",
   "metadata": {},
   "outputs": [
    {
     "data": {
      "text/plain": [
       "24"
      ]
     },
     "execution_count": 10,
     "metadata": {},
     "output_type": "execute_result"
    }
   ],
   "source": [
    "def factorial(n):\n",
    "    if n == 0:\n",
    "        return 1\n",
    "    return n * factorial(n-1)\n",
    "factorial(4)"
   ]
  },
  {
   "cell_type": "markdown",
   "id": "0cad177c",
   "metadata": {},
   "source": [
    "10 Escribir dos funciones que permitan calcular:\n",
    "\n",
    "* La cantidad de segundos en un tiempo dado en horas, minutos y segundos.\n",
    "* La cantidad de horas, minutos y segundos de un tiempo dado en segundos\n"
   ]
  },
  {
   "cell_type": "code",
   "execution_count": 11,
   "id": "7a3019bd",
   "metadata": {},
   "outputs": [
    {
     "data": {
      "text/plain": [
       "13272"
      ]
     },
     "execution_count": 11,
     "metadata": {},
     "output_type": "execute_result"
    }
   ],
   "source": [
    "def seg(h,m,s):\n",
    "        h=h*60*60\n",
    "        m=m*60\n",
    "        return(h+m+s)\n",
    "seg(3,41,12)"
   ]
  },
  {
   "cell_type": "code",
   "execution_count": 12,
   "id": "94cb24d3",
   "metadata": {},
   "outputs": [
    {
     "data": {
      "text/plain": [
       "(100120929, 17, 12)"
      ]
     },
     "execution_count": 12,
     "metadata": {},
     "output_type": "execute_result"
    }
   ],
   "source": [
    "import math\n",
    "def hms(s):\n",
    "    h=math.floor(s/3600)\n",
    "    m=math.floor((s-(h*3600))/60)\n",
    "    s=(s-(h*3600))%60\n",
    "    return(h,m,s)\n",
    "hms(360435345432)"
   ]
  },
  {
   "cell_type": "markdown",
   "id": "069d89dd",
   "metadata": {},
   "source": [
    "11. Crea una función  que lea una tupla, invierta los valores de la tupla y regrese una nueva tupla invirtiendo los valores. Recuerde que las tuplas son inmutables."
   ]
  },
  {
   "cell_type": "code",
   "execution_count": 13,
   "id": "23c237f6",
   "metadata": {},
   "outputs": [
    {
     "data": {
      "text/plain": [
       "(3, 2, 1)"
      ]
     },
     "execution_count": 13,
     "metadata": {},
     "output_type": "execute_result"
    }
   ],
   "source": [
    "def inv(x):\n",
    "    x=list(x)\n",
    "    x=list(reversed(x))\n",
    "    x=tuple(x)\n",
    "    return x\n",
    "y=(1,2,3)\n",
    "inv(y)"
   ]
  },
  {
   "cell_type": "markdown",
   "id": "99181470",
   "metadata": {},
   "source": [
    "12. Escriba una función que lea una lista y calcule la media geométrica de sus valores, usando funtools.reduce."
   ]
  },
  {
   "cell_type": "code",
   "execution_count": 14,
   "id": "397acaba",
   "metadata": {},
   "outputs": [
    {
     "data": {
      "text/plain": [
       "1.8171205928321397"
      ]
     },
     "execution_count": 14,
     "metadata": {},
     "output_type": "execute_result"
    }
   ],
   "source": [
    "import functools\n",
    "def mg(x):\n",
    "    l=len(x)\n",
    "    p=functools.reduce(lambda a, b: a*b, x)# multiplicatoria usando funtools a la list\n",
    "    return (p**(1/l))# media geometrica\n",
    "y=(1,2,3)\n",
    "mg(y)"
   ]
  }
 ],
 "metadata": {
  "kernelspec": {
   "display_name": "Python 3 (ipykernel)",
   "language": "python",
   "name": "python3"
  },
  "language_info": {
   "codemirror_mode": {
    "name": "ipython",
    "version": 3
   },
   "file_extension": ".py",
   "mimetype": "text/x-python",
   "name": "python",
   "nbconvert_exporter": "python",
   "pygments_lexer": "ipython3",
   "version": "3.9.13"
  }
 },
 "nbformat": 4,
 "nbformat_minor": 5
}
