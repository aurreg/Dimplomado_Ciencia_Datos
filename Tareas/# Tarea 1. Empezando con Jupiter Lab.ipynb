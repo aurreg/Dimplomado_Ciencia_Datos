{
 "cells": [
  {
   "cell_type": "markdown",
   "id": "8a564a2b",
   "metadata": {},
   "source": [
    "[![Open in colab](http://colab.research.google.com/assets/colab-badge.svg)](https://colab.research.google.com/github/aurreg/Dimplomado_Ciencia_Datos/blob/main/Tareas/Tarea%20.ipynb)"
   ]
  },
  {
   "attachments": {},
   "cell_type": "markdown",
   "id": "7585413c",
   "metadata": {},
   "source": [
    "![logo.jpg](logo.jpg)"
   ]
  },
  {
   "cell_type": "markdown",
   "id": "355ecb0f",
   "metadata": {},
   "source": [
    "# Tarea 1. Empezando con Jupiter Lab"
   ]
  },
  {
   "attachments": {},
   "cell_type": "markdown",
   "id": "bada325e",
   "metadata": {},
   "source": [
    "## Autor: Alejandro Urrego López\n",
    "\n",
    "Estudiante de estadística de la Universidad Nacional de Colombia.\n",
    "![Captura.png](Captura.png)"
   ]
  },
  {
   "attachments": {},
   "cell_type": "markdown",
   "id": "042aa824",
   "metadata": {},
   "source": [
    "### Varianza\n",
    "\n",
    "En teoría de probabilidad y estadística, la varianza es una medida de dispersión definida como la esperanza del cuadrado de la desviación de dicha variable respecto a su media, es decir: $$ Var=E[X-\\mu]^2$$\n",
    "\n",
    " Esta medida es siempre una cantidad positiva, con propiedades interesantes y muy utilies para la estadística, donde algunas ideas que la utilizan incluyen estadísticas descriptivas, inferencia estadística, pruebas de hipótesis, bondad de ajuste. La varianza es una herramienta importante en las ciencias, donde el análisis estadístico de datos es común.  Una desventaja de la varianza para aplicaciones prácticas es que, a diferencia de la desviación estándar, sus unidades difieren de la variable aleatoria, razón por la cual la desviación estándar se utiliza más comúnmente como una medida de dispersión. Se define como sigue: $$S=\\sqrt{Var}$$."
   ]
  },
  {
   "cell_type": "markdown",
   "id": "51f8be62",
   "metadata": {},
   "source": [
    "### Ejemplo\n",
    "\n",
    "Un dado justo de seis caras se puede modelar como una variable aleatoria discreta, $X$, con resultados del 1 al 6, cada uno con la misma probabilidad de $\\frac{1}{6}$. El valor esperado de $X$ es:"
   ]
  },
  {
   "cell_type": "code",
   "execution_count": 5,
   "id": "c7df8f09",
   "metadata": {},
   "outputs": [
    {
     "name": "stdout",
     "output_type": "stream",
     "text": [
      "3.5\n"
     ]
    }
   ],
   "source": [
    "E=(1+2+3+4+5+6)/6\n",
    "print(E)"
   ]
  },
  {
   "cell_type": "markdown",
   "id": "728ea239",
   "metadata": {},
   "source": [
    "Por lo tanto, la varianza de $X$ es"
   ]
  },
  {
   "cell_type": "code",
   "execution_count": 7,
   "id": "d42195ed",
   "metadata": {},
   "outputs": [
    {
     "name": "stdout",
     "output_type": "stream",
     "text": [
      "2.9166666666666665\n"
     ]
    }
   ],
   "source": [
    "V=((1-E)**2+(2-E)**2+(3-E)**2+(4-E)**2+(5-E)**2+(6-E)**2)/6\n",
    "print(V)"
   ]
  },
  {
   "cell_type": "markdown",
   "id": "7c3b6af3",
   "metadata": {},
   "source": [
    "### Referencias:\n",
    "\n",
    "[Wikipedia, 2023](https://en.wikipedia.org/wiki/Variance).\n",
    "\n"
   ]
  }
 ],
 "metadata": {
  "kernelspec": {
   "display_name": "Python 3 (ipykernel)",
   "language": "python",
   "name": "python3"
  },
  "language_info": {
   "codemirror_mode": {
    "name": "ipython",
    "version": 3
   },
   "file_extension": ".py",
   "mimetype": "text/x-python",
   "name": "python",
   "nbconvert_exporter": "python",
   "pygments_lexer": "ipython3",
   "version": "3.9.13"
  }
 },
 "nbformat": 4,
 "nbformat_minor": 5
}
